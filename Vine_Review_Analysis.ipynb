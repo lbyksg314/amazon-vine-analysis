{
 "cells": [
  {
   "cell_type": "code",
   "execution_count": null,
   "metadata": {
    "colab": {
     "base_uri": "https://localhost:8080/"
    },
    "id": "wywczsIxiQVd",
    "outputId": "c46b64fb-525e-4bc7-b080-9e58ad3044e6"
   },
   "outputs": [
    {
     "name": "stdout",
     "output_type": "stream",
     "text": [
      "Get:1 https://cloud.r-project.org/bin/linux/ubuntu bionic-cran40/ InRelease [3,626 B]\n",
      "Ign:2 https://developer.download.nvidia.com/compute/cuda/repos/ubuntu1804/x86_64  InRelease\n",
      "Get:3 http://security.ubuntu.com/ubuntu bionic-security InRelease [88.7 kB]\n",
      "Get:4 http://ppa.launchpad.net/c2d4u.team/c2d4u4.0+/ubuntu bionic InRelease [15.9 kB]\n",
      "Hit:5 http://archive.ubuntu.com/ubuntu bionic InRelease\n",
      "Ign:6 https://developer.download.nvidia.com/compute/machine-learning/repos/ubuntu1804/x86_64  InRelease\n",
      "Get:7 http://archive.ubuntu.com/ubuntu bionic-updates InRelease [88.7 kB]\n",
      "Get:8 https://developer.download.nvidia.com/compute/cuda/repos/ubuntu1804/x86_64  Release [696 B]\n",
      "Hit:9 https://developer.download.nvidia.com/compute/machine-learning/repos/ubuntu1804/x86_64  Release\n",
      "Get:10 https://developer.download.nvidia.com/compute/cuda/repos/ubuntu1804/x86_64  Release.gpg [836 B]\n",
      "Hit:11 http://ppa.launchpad.net/cran/libgit2/ubuntu bionic InRelease\n",
      "Get:12 http://archive.ubuntu.com/ubuntu bionic-backports InRelease [74.6 kB]\n",
      "Get:13 http://ppa.launchpad.net/deadsnakes/ppa/ubuntu bionic InRelease [15.9 kB]\n",
      "Hit:14 http://ppa.launchpad.net/graphics-drivers/ppa/ubuntu bionic InRelease\n",
      "Get:15 http://ppa.launchpad.net/c2d4u.team/c2d4u4.0+/ubuntu bionic/main Sources [1,947 kB]\n",
      "Get:17 http://ppa.launchpad.net/c2d4u.team/c2d4u4.0+/ubuntu bionic/main amd64 Packages [996 kB]\n",
      "Get:18 https://developer.download.nvidia.com/compute/cuda/repos/ubuntu1804/x86_64  Packages [953 kB]\n",
      "Get:19 http://security.ubuntu.com/ubuntu bionic-security/main amd64 Packages [2,695 kB]\n",
      "Get:20 http://security.ubuntu.com/ubuntu bionic-security/universe amd64 Packages [1,490 kB]\n",
      "Get:21 http://archive.ubuntu.com/ubuntu bionic-updates/main amd64 Packages [3,134 kB]\n",
      "Get:22 http://archive.ubuntu.com/ubuntu bionic-updates/universe amd64 Packages [2,268 kB]\n",
      "Get:23 http://ppa.launchpad.net/deadsnakes/ppa/ubuntu bionic/main amd64 Packages [45.3 kB]\n",
      "Fetched 13.8 MB in 6s (2,312 kB/s)\n",
      "Reading package lists... Done\n"
     ]
    }
   ],
   "source": [
    "import os\n",
    "# Find the latest version of spark 3.0 from http://www.apache.org/dist/spark/ and enter as the spark version\n",
    "# For example:\n",
    "# spark_version = 'spark-3.0.3'\n",
    "spark_version = 'spark-3.2.1'\n",
    "os.environ['SPARK_VERSION']=spark_version\n",
    "\n",
    "# Install Spark and Java\n",
    "!apt-get update\n",
    "!apt-get install openjdk-11-jdk-headless -qq > /dev/null\n",
    "!wget -q http://www.apache.org/dist/spark/$SPARK_VERSION/$SPARK_VERSION-bin-hadoop2.7.tgz\n",
    "!tar xf $SPARK_VERSION-bin-hadoop2.7.tgz\n",
    "!pip install -q findspark\n",
    "\n",
    "# Set Environment Variables\n",
    "import os\n",
    "os.environ[\"JAVA_HOME\"] = \"/usr/lib/jvm/java-11-openjdk-amd64\"\n",
    "os.environ[\"SPARK_HOME\"] = f\"/content/{spark_version}-bin-hadoop2.7\"\n",
    "\n",
    "# Start a SparkSession\n",
    "import findspark\n",
    "findspark.init()"
   ]
  },
  {
   "cell_type": "code",
   "execution_count": null,
   "metadata": {
    "id": "rG2RuiAFiyaN"
   },
   "outputs": [],
   "source": [
    "# Start Spark session\n",
    "from pyspark.sql import SparkSession\n",
    "spark = SparkSession.builder.appName(\"vine_review_analysis\").getOrCreate()"
   ]
  },
  {
   "cell_type": "code",
   "execution_count": null,
   "metadata": {
    "colab": {
     "base_uri": "https://localhost:8080/"
    },
    "id": "rQe6rQWli6aj",
    "outputId": "ba3276f5-283a-418a-cac7-2d6ea94fe745"
   },
   "outputs": [
    {
     "name": "stdout",
     "output_type": "stream",
     "text": [
      "+-----------+-----------+--------------+----------+--------------+--------------------+----------------+-----------+-------------+-----------+----+-----------------+--------------------+--------------------+-----------+\n",
      "|marketplace|customer_id|     review_id|product_id|product_parent|       product_title|product_category|star_rating|helpful_votes|total_votes|vine|verified_purchase|     review_headline|         review_body|review_date|\n",
      "+-----------+-----------+--------------+----------+--------------+--------------------+----------------+-----------+-------------+-----------+----+-----------------+--------------------+--------------------+-----------+\n",
      "|         US|   42605767|R3EFW2STIYIY0I|B00MUTIDKI|     248732228|McAfee 2015 Inter...|        Software|          1|            2|          2|   N|                Y|I was very disapp...|I was very disapp...| 2015-08-31|\n",
      "|         US|   51771800|R12NR0R5A9F7FT|B00EPACNUG|     531462352|Hallmark Card Stu...|        Software|          5|            0|          0|   N|                Y|          Five Stars|I had a little st...| 2015-08-31|\n",
      "|         US|   16053526|R1LSH74R9XAP59|B00164AZA4|     473982505| Search and Rescue 4|        Software|          2|            0|          1|   N|                Y|    Have windows 10?|Tried to download...| 2015-08-31|\n",
      "+-----------+-----------+--------------+----------+--------------+--------------------+----------------+-----------+-------------+-----------+----+-----------------+--------------------+--------------------+-----------+\n",
      "only showing top 3 rows\n",
      "\n"
     ]
    }
   ],
   "source": [
    "from pyspark import SparkFiles\n",
    "url = \"https://s3.amazonaws.com/amazon-reviews-pds/tsv/amazon_reviews_us_Software_v1_00.tsv.gz\"\n",
    "spark.sparkContext.addFile(url)\n",
    "df = spark.read.option(\"encoding\", \"UTF-8\").csv(SparkFiles.get(\"amazon_reviews_us_Software_v1_00.tsv.gz\"), sep=\"\\t\", header=True, inferSchema=True)\n",
    "df.show(3)"
   ]
  },
  {
   "cell_type": "code",
   "execution_count": null,
   "metadata": {
    "colab": {
     "base_uri": "https://localhost:8080/"
    },
    "id": "jufjygW3jIsT",
    "outputId": "a2d2e74d-0b7e-4886-9c58-e0a8969c7b6e"
   },
   "outputs": [
    {
     "name": "stdout",
     "output_type": "stream",
     "text": [
      "+--------------+-----------+-------------+-----------+----+-----------------+\n",
      "|     review_id|star_rating|helpful_votes|total_votes|vine|verified_purchase|\n",
      "+--------------+-----------+-------------+-----------+----+-----------------+\n",
      "|R3EFW2STIYIY0I|          1|            2|          2|   N|                Y|\n",
      "|R12NR0R5A9F7FT|          5|            0|          0|   N|                Y|\n",
      "|R1LSH74R9XAP59|          2|            0|          1|   N|                Y|\n",
      "|R1QXUNTF76K7L6|          2|            0|          0|   N|                Y|\n",
      "|R2F7DR75PS8NKT|          5|            0|          0|   N|                Y|\n",
      "+--------------+-----------+-------------+-----------+----+-----------------+\n",
      "only showing top 5 rows\n",
      "\n"
     ]
    }
   ],
   "source": [
    "# Create the vine_table. DataFrame\n",
    "# vine_df = df.select([])\n",
    "vine_df = df.select(['review_id','star_rating','helpful_votes', 'total_votes', 'vine', 'verified_purchase'])\n",
    "vine_df.show(5)"
   ]
  },
  {
   "cell_type": "code",
   "execution_count": null,
   "metadata": {
    "colab": {
     "base_uri": "https://localhost:8080/"
    },
    "id": "F_S2oHbijt70",
    "outputId": "1a039577-7724-49b4-d4e6-3c5c2ea6a206"
   },
   "outputs": [
    {
     "name": "stdout",
     "output_type": "stream",
     "text": [
      "+--------------+-----------+-------------+-----------+----+-----------------+\n",
      "|     review_id|star_rating|helpful_votes|total_votes|vine|verified_purchase|\n",
      "+--------------+-----------+-------------+-----------+----+-----------------+\n",
      "|R26CC1STPSUHBS|          1|           27|         39|   N|                N|\n",
      "| R7K83D59T9KWS|          1|           16|         26|   N|                N|\n",
      "|R2ATG5BPVILHUM|          1|           16|         25|   N|                N|\n",
      "|R1Q71TAM5ZOYTK|          3|           57|         61|   N|                N|\n",
      "| RR8HYI7C2XKMU|          5|           25|         25|   N|                Y|\n",
      "|R1VDCSJE4CJJIR|          1|           88|         97|   N|                Y|\n",
      "|R2PZMSDKOO1Q6W|          1|           29|         43|   N|                Y|\n",
      "|R39OOYN0DOLINK|          3|           91|        111|   N|                N|\n",
      "|R1PLNHJZ8BKIBG|          1|           44|         46|   N|                Y|\n",
      "|R14G4YQXL17REH|          1|            4|         28|   N|                N|\n",
      "|R3UTVKJF44E0R6|          1|           46|         69|   N|                N|\n",
      "| R2J71KOOLF9UB|          1|            5|         20|   N|                Y|\n",
      "|R2CAD5FOVMTR2L|          2|           17|         28|   N|                N|\n",
      "|R2SW9V1EDQH6O7|          5|           27|         29|   N|                N|\n",
      "|R3SI1TZD809Y0T|          5|           24|         24|   N|                Y|\n",
      "|R23WY4HVMD8SY3|          1|            7|         24|   N|                N|\n",
      "|R2V0VLBRWCMX3I|          1|          563|        601|   N|                N|\n",
      "| R34R79B2P5DJD|          1|           87|        112|   N|                N|\n",
      "| R4D6AQ86X5RQG|          1|           22|         26|   N|                N|\n",
      "|R1BSZ4PB99TN8D|          1|           61|         90|   N|                N|\n",
      "+--------------+-----------+-------------+-----------+----+-----------------+\n",
      "only showing top 20 rows\n",
      "\n"
     ]
    }
   ],
   "source": [
    "#filter data\n",
    "vine_df_1= vine_df.filter('total_votes>=20')\n",
    "vine_df_1.show()"
   ]
  },
  {
   "cell_type": "code",
   "execution_count": null,
   "metadata": {
    "colab": {
     "base_uri": "https://localhost:8080/"
    },
    "id": "NUsVA-JAlSql",
    "outputId": "2aa08ae4-6426-472a-dcf4-a5d11047cee5"
   },
   "outputs": [
    {
     "name": "stdout",
     "output_type": "stream",
     "text": [
      "+--------------+-----------+-------------+-----------+----+-----------------+\n",
      "|     review_id|star_rating|helpful_votes|total_votes|vine|verified_purchase|\n",
      "+--------------+-----------+-------------+-----------+----+-----------------+\n",
      "|R26CC1STPSUHBS|          1|           27|         39|   N|                N|\n",
      "| R7K83D59T9KWS|          1|           16|         26|   N|                N|\n",
      "|R2ATG5BPVILHUM|          1|           16|         25|   N|                N|\n",
      "|R1Q71TAM5ZOYTK|          3|           57|         61|   N|                N|\n",
      "| RR8HYI7C2XKMU|          5|           25|         25|   N|                Y|\n",
      "|R1VDCSJE4CJJIR|          1|           88|         97|   N|                Y|\n",
      "|R2PZMSDKOO1Q6W|          1|           29|         43|   N|                Y|\n",
      "|R39OOYN0DOLINK|          3|           91|        111|   N|                N|\n",
      "|R1PLNHJZ8BKIBG|          1|           44|         46|   N|                Y|\n",
      "|R3UTVKJF44E0R6|          1|           46|         69|   N|                N|\n",
      "|R2CAD5FOVMTR2L|          2|           17|         28|   N|                N|\n",
      "|R2SW9V1EDQH6O7|          5|           27|         29|   N|                N|\n",
      "|R3SI1TZD809Y0T|          5|           24|         24|   N|                Y|\n",
      "|R2V0VLBRWCMX3I|          1|          563|        601|   N|                N|\n",
      "| R34R79B2P5DJD|          1|           87|        112|   N|                N|\n",
      "| R4D6AQ86X5RQG|          1|           22|         26|   N|                N|\n",
      "|R1BSZ4PB99TN8D|          1|           61|         90|   N|                N|\n",
      "|R1QMF01BDRT2LJ|          1|           10|         20|   N|                N|\n",
      "|R2NBUUW79OYBGT|          1|           57|         58|   N|                Y|\n",
      "|R24OEFISZWTBDJ|          4|           17|         25|   N|                N|\n",
      "+--------------+-----------+-------------+-----------+----+-----------------+\n",
      "only showing top 20 rows\n",
      "\n"
     ]
    }
   ],
   "source": [
    "#filter helpful_votes/total_votes>=50%.\n",
    "vine_above_50percent = vine_df_1.filter(vine_df_1['helpful_votes']/vine_df_1['total_votes']>=0.5)\n",
    "vine_above_50percent.show()"
   ]
  },
  {
   "cell_type": "code",
   "execution_count": null,
   "metadata": {
    "colab": {
     "base_uri": "https://localhost:8080/"
    },
    "id": "an6QQYHFm1qp",
    "outputId": "3e77de84-c690-4594-924d-cfc0e5e6c9af"
   },
   "outputs": [
    {
     "name": "stdout",
     "output_type": "stream",
     "text": [
      "+--------------+-----------+-------------+-----------+----+-----------------+\n",
      "|     review_id|star_rating|helpful_votes|total_votes|vine|verified_purchase|\n",
      "+--------------+-----------+-------------+-----------+----+-----------------+\n",
      "|R28EIR3Z6RRUNN|          2|           50|         60|   Y|                N|\n",
      "|R2YO2RESXZEWOF|          4|           24|         25|   Y|                N|\n",
      "| R8GEE2EW3D6S9|          3|           49|         54|   Y|                N|\n",
      "|R33W9V1MX6WKPS|          4|           47|         53|   Y|                N|\n",
      "|R24E3W2ZRIFG8C|          5|           91|         93|   Y|                N|\n",
      "|R2OR3KIFFG4YWT|          4|           75|         81|   Y|                Y|\n",
      "|R1RLJAAFOA5MMS|          2|           25|         27|   Y|                N|\n",
      "| RVYHD7IZ7W99B|          1|           78|         78|   Y|                N|\n",
      "|R12EV95D2T56HA|          5|           37|         37|   Y|                N|\n",
      "|R296NVZGV4VZLP|          5|           41|         44|   Y|                N|\n",
      "| RLJPGO3YMKSI6|          5|           24|         27|   Y|                N|\n",
      "|R33KYYMINUELQA|          2|           23|         23|   Y|                N|\n",
      "| RNNE1AAL4XU7W|          4|           60|         64|   Y|                N|\n",
      "| RC38M96UFDOOI|          3|           78|         87|   Y|                N|\n",
      "| RR9F2YTECN67C|          5|           35|         37|   Y|                N|\n",
      "|R1HB8SSCA97V9U|          5|          100|        105|   Y|                N|\n",
      "| RX4E94KN6K16U|          5|           56|         59|   Y|                N|\n",
      "|R1XLGO18EB3KZA|          5|           25|         25|   Y|                N|\n",
      "|R1R9XER49EMT2N|          2|           34|         35|   Y|                N|\n",
      "| R7ST49NTUXZLV|          5|           23|         25|   Y|                N|\n",
      "+--------------+-----------+-------------+-----------+----+-----------------+\n",
      "only showing top 20 rows\n",
      "\n"
     ]
    }
   ],
   "source": [
    "#filter Vine program (paid), vine == 'Y'.\n",
    "\n",
    "vp_paid = vine_above_50percent.filter(vine_above_50percent.vine == 'Y')\n",
    "vp_paid.show()\n"
   ]
  },
  {
   "cell_type": "code",
   "execution_count": null,
   "metadata": {
    "colab": {
     "base_uri": "https://localhost:8080/"
    },
    "id": "Hn7VFCV9r494",
    "outputId": "12035abb-d049-47cf-c5c9-811f8812c2db"
   },
   "outputs": [
    {
     "name": "stdout",
     "output_type": "stream",
     "text": [
      "+--------------+-----------+-------------+-----------+----+-----------------+\n",
      "|     review_id|star_rating|helpful_votes|total_votes|vine|verified_purchase|\n",
      "+--------------+-----------+-------------+-----------+----+-----------------+\n",
      "|R26CC1STPSUHBS|          1|           27|         39|   N|                N|\n",
      "| R7K83D59T9KWS|          1|           16|         26|   N|                N|\n",
      "|R2ATG5BPVILHUM|          1|           16|         25|   N|                N|\n",
      "|R1Q71TAM5ZOYTK|          3|           57|         61|   N|                N|\n",
      "| RR8HYI7C2XKMU|          5|           25|         25|   N|                Y|\n",
      "|R1VDCSJE4CJJIR|          1|           88|         97|   N|                Y|\n",
      "|R2PZMSDKOO1Q6W|          1|           29|         43|   N|                Y|\n",
      "|R39OOYN0DOLINK|          3|           91|        111|   N|                N|\n",
      "|R1PLNHJZ8BKIBG|          1|           44|         46|   N|                Y|\n",
      "|R3UTVKJF44E0R6|          1|           46|         69|   N|                N|\n",
      "|R2CAD5FOVMTR2L|          2|           17|         28|   N|                N|\n",
      "|R2SW9V1EDQH6O7|          5|           27|         29|   N|                N|\n",
      "|R3SI1TZD809Y0T|          5|           24|         24|   N|                Y|\n",
      "|R2V0VLBRWCMX3I|          1|          563|        601|   N|                N|\n",
      "| R34R79B2P5DJD|          1|           87|        112|   N|                N|\n",
      "| R4D6AQ86X5RQG|          1|           22|         26|   N|                N|\n",
      "|R1BSZ4PB99TN8D|          1|           61|         90|   N|                N|\n",
      "|R1QMF01BDRT2LJ|          1|           10|         20|   N|                N|\n",
      "|R2NBUUW79OYBGT|          1|           57|         58|   N|                Y|\n",
      "|R24OEFISZWTBDJ|          4|           17|         25|   N|                N|\n",
      "+--------------+-----------+-------------+-----------+----+-----------------+\n",
      "only showing top 20 rows\n",
      "\n"
     ]
    }
   ],
   "source": [
    "#retrieve all the rows where the review was not part of the Vine program (unpaid), vine == 'N'\n",
    "nonvp_unpaid = vine_above_50percent.filter(vine_above_50percent.vine == 'N')\n",
    "nonvp_unpaid.show()"
   ]
  },
  {
   "cell_type": "code",
   "execution_count": null,
   "metadata": {
    "colab": {
     "base_uri": "https://localhost:8080/"
    },
    "id": "igiaHoCPaq1t",
    "outputId": "895a68ca-11a8-46bc-c57a-e5e0b5c195a4"
   },
   "outputs": [
    {
     "name": "stdout",
     "output_type": "stream",
     "text": [
      "There are 17762 reviews in total above 50%reviews.\n",
      "Total reviews that were written as the Vine program (paid): 248.\n",
      "Total reviews that were not part of the Vine program (unpaid): 17514.\n",
      "-------------------------------------------------\n",
      "Overall, there are 5256 reviews has rated for 5stars.\n",
      "Vine Program(paid) for 5star rating has 102 reviews.\n",
      "Non-Vine Program(unpaid) for 5star rating has 5154 reviews.\n",
      "----------------------------------------------------\n",
      "The percentage of 5star reviews for Vine program(paid) is: 41.13%.\n",
      "The percentage of 5star reviews for non-Vine program(unpaid) is: 29.43%.\n"
     ]
    }
   ],
   "source": [
    "#Determine the total number of reviews\n",
    "# the number of 5-star reviews, \n",
    "#and the percentage of 5-star reviews for the two types of review (paid vs unpaid).\n",
    "total_review = vine_above_50percent.count()\n",
    "total_review_paid = vp_paid.count()\n",
    "total_review_unpaid = nonvp_unpaid.count()\n",
    "\n",
    "print(f'There are {total_review} reviews in total above 50%reviews.')\n",
    "print(f'Total reviews that were written as the Vine program (paid): {total_review_paid}.')\n",
    "print(f'Total reviews that were not part of the Vine program (unpaid): {total_review_unpaid}.')\n",
    "print('-------------------------------------------------')\n",
    "\n",
    "vp_5star = vine_above_50percent.filter('star_rating==5').count()\n",
    "vp_paid_5star = vp_paid.filter('star_rating==5').count()\n",
    "nonvp_unpaid_5star = nonvp_unpaid.filter('star_rating==5').count()\n",
    "\n",
    "print(f'Overall, there are {vp_5star} reviews has rated for 5stars.')\n",
    "print(f'Vine Program(paid) for 5star rating has {vp_paid_5star} reviews.')\n",
    "print(f'Non-Vine Program(unpaid) for 5star rating has {nonvp_unpaid_5star} reviews.')\n",
    "print('----------------------------------------------------')\n",
    "\n",
    "percent_5star_paid = vp_paid_5star/total_review_paid*100\n",
    "percent_5star_unpaid = nonvp_unpaid_5star/total_review_unpaid*100\n",
    "print(f'The percentage of 5star reviews for Vine program(paid) is: {percent_5star_paid:.2f}%.')\n",
    "print(f'The percentage of 5star reviews for non-Vine program(unpaid) is: {percent_5star_unpaid:.2f}%.')"
   ]
  }
 ],
 "metadata": {
  "colab": {
   "collapsed_sections": [],
   "name": "Vine_Review_Analysis.ipynb",
   "provenance": []
  },
  "kernelspec": {
   "display_name": "Python 3 (ipykernel)",
   "language": "python",
   "name": "python3"
  },
  "language_info": {
   "codemirror_mode": {
    "name": "ipython",
    "version": 3
   },
   "file_extension": ".py",
   "mimetype": "text/x-python",
   "name": "python",
   "nbconvert_exporter": "python",
   "pygments_lexer": "ipython3",
   "version": "3.7.13"
  }
 },
 "nbformat": 4,
 "nbformat_minor": 1
}
